{
 "cells": [
  {
   "cell_type": "code",
   "execution_count": null,
   "id": "bcb7f477",
   "metadata": {},
   "outputs": [],
   "source": [
    "def three_number_average(num1, num2, num3):   \n",
    "    average = (num1 + num2 + num3)/3   \n",
    "    return average    \n",
    "\n",
    "num1 = int(input('Enter first number: '))\n",
    "num2 = int(input('Enter second number: '))\n",
    "num3 = int(input('Enter third number: '))\n",
    "\n",
    "average = three_number_average(num1, num2, num3)\n",
    "\n",
    "print('The average of numbers = ',average)"
   ]
  }
 ],
 "metadata": {
  "kernelspec": {
   "display_name": "Python 3",
   "language": "python",
   "name": "python3"
  },
  "language_info": {
   "codemirror_mode": {
    "name": "ipython",
    "version": 3
   },
   "file_extension": ".py",
   "mimetype": "text/x-python",
   "name": "python",
   "nbconvert_exporter": "python",
   "pygments_lexer": "ipython3",
   "version": "3.8.8"
  }
 },
 "nbformat": 4,
 "nbformat_minor": 5
}

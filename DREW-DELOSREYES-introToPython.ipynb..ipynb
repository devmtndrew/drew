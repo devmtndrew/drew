{
 "cells": [
  {
   "cell_type": "code",
   "execution_count": 1,
   "id": "0b977aff",
   "metadata": {},
   "outputs": [
    {
     "name": "stdout",
     "output_type": "stream",
     "text": [
      "Enter first number:1\n",
      "Enter second number2\n",
      "Enter third number:3\n",
      "The average is:  2.0\n"
     ]
    }
   ],
   "source": [
    "number1 = int(input(\"Enter first number:\"))\n",
    "number2 = int(input(\"Enter second number\"))\n",
    "number3 = int(input(\"Enter third number:\"))\n",
    "three_number_average = (number1 + number2 + number3) / 3\n",
    "print(\"The average is: \" , three_number_average)"
   ]
  },
  {
   "cell_type": "code",
   "execution_count": null,
   "id": "e156343d",
   "metadata": {},
   "outputs": [],
   "source": []
  }
 ],
 "metadata": {
  "kernelspec": {
   "display_name": "Python 3",
   "language": "python",
   "name": "python3"
  },
  "language_info": {
   "codemirror_mode": {
    "name": "ipython",
    "version": 3
   },
   "file_extension": ".py",
   "mimetype": "text/x-python",
   "name": "python",
   "nbconvert_exporter": "python",
   "pygments_lexer": "ipython3",
   "version": "3.8.8"
  }
 },
 "nbformat": 4,
 "nbformat_minor": 5
}

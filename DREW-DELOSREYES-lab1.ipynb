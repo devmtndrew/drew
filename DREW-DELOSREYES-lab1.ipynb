{
 "cells": [
  {
   "cell_type": "code",
   "execution_count": null,
   "id": "3f8a387a",
   "metadata": {},
   "outputs": [],
   "source": [
    "def dollars_to_pesos():\n",
    "    first_input = int(input('Enter amount in US Dollars: '))\n",
    "    convertion = (first_input * 50)\n",
    "    print(first_input \"Dollars\" = convertion \"Pesos\")\n",
    "\n",
    "def perform_operations():\n",
    "    input_one = int(input('x: '))\n",
    "    input_two = int(input('y: '))\n",
    "    print (input_one + input_two)\n",
    "    print (input_one - input_two)\n",
    "    print (input_one * input_two)\n",
    "    print (input_one // input_two)\n",
    "    print (input_one % input_two)\n",
    "\n",
    "def bmi():\n",
    "    first_input = int(input('kg: '))\n",
    "    second_input = int(input('cm: '))\n",
    "    meters = second_input / 100\n",
    "    convertion = (first_input / meters**(2))\n",
    "    return convertion"
   ]
  }
 ],
 "metadata": {
  "kernelspec": {
   "display_name": "Python 3",
   "language": "python",
   "name": "python3"
  },
  "language_info": {
   "codemirror_mode": {
    "name": "ipython",
    "version": 3
   },
   "file_extension": ".py",
   "mimetype": "text/x-python",
   "name": "python",
   "nbconvert_exporter": "python",
   "pygments_lexer": "ipython3",
   "version": "3.8.8"
  }
 },
 "nbformat": 4,
 "nbformat_minor": 5
}

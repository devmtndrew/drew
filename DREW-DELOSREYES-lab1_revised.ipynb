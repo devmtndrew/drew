{
 "cells": [
  {
   "cell_type": "code",
   "execution_count": null,
   "id": "72b052a9",
   "metadata": {},
   "outputs": [],
   "source": [
    "def dollars_to_pesos(dollar):\n",
    "    pesos = dollar*50\n",
    "    return pesos\n",
    "dollar = int(input(\"Enter the amount in US Dollars:\"))\n",
    "pesos = dollars_to_pesos(dollar)\n",
    "print( dollar, \" US dollar(s) =\", pesos, \" Philippine pesos.\")\n",
    "\n",
    "def add(x,y):\n",
    "    ans1 = x+y\n",
    "    return ans1\n",
    "def subtract(x,y):\n",
    "    ans2 = x-y\n",
    "    return ans2\n",
    "def multiply(x,y):\n",
    "    ans3 = x*y\n",
    "    return ans3\n",
    "def divide(x,y):\n",
    "    ans4 = x/y\n",
    "    return ans4\n",
    "def per(x,y):\n",
    "    ans5 = x%y\n",
    "    return ans5\n",
    "\n",
    "def bmi(kg,cm):\n",
    "    calculation = kg/((cm/100)**2)\n",
    "    \n",
    "    return calculation\n",
    "kg = int(input(\"kg = \" ))\n",
    "cm = int(input(\"cm = \"))\n",
    "calculation = bmi(kg,cm)\n",
    "print(calculation)"
   ]
  }
 ],
 "metadata": {
  "kernelspec": {
   "display_name": "Python 3",
   "language": "python",
   "name": "python3"
  },
  "language_info": {
   "codemirror_mode": {
    "name": "ipython",
    "version": 3
   },
   "file_extension": ".py",
   "mimetype": "text/x-python",
   "name": "python",
   "nbconvert_exporter": "python",
   "pygments_lexer": "ipython3",
   "version": "3.8.8"
  }
 },
 "nbformat": 4,
 "nbformat_minor": 5
}
